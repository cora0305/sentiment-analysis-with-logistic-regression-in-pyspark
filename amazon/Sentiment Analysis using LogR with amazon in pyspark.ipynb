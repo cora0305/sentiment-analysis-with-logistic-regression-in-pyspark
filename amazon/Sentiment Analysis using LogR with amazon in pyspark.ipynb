{
 "cells": [
  {
   "cell_type": "markdown",
   "metadata": {},
   "source": [
    "## Import the required packages and libraries"
   ]
  },
  {
   "cell_type": "code",
   "execution_count": 8,
   "metadata": {
    "ExecuteTime": {
     "end_time": "2022-09-01T20:48:58.654705Z",
     "start_time": "2022-09-01T20:48:58.646611Z"
    }
   },
   "outputs": [],
   "source": [
    "from pyspark import SparkContext\n",
    "from pyspark.sql.session import SparkSession\n",
    "from pyspark.sql.types import *\n",
    "from pyspark.sql.functions import *\n",
    "from pyspark.ml.classification import LogisticRegression\n",
    "from pyspark.ml.feature import HashingTF, Tokenizer, StopWordsRemover"
   ]
  },
  {
   "cell_type": "code",
   "execution_count": 9,
   "metadata": {
    "ExecuteTime": {
     "end_time": "2022-09-01T20:48:58.856182Z",
     "start_time": "2022-09-01T20:48:58.846146Z"
    }
   },
   "outputs": [],
   "source": [
    "appName = \"Amazon alexa Review System\"\n",
    "spark = SparkSession \\\n",
    "    .builder \\\n",
    "    .appName(appName) \\\n",
    "    .config(\"spark.some.config.option\", \"some-value\") \\\n",
    "    .getOrCreate()"
   ]
  },
  {
   "cell_type": "markdown",
   "metadata": {},
   "source": [
    "## Load the Data from Kaggle"
   ]
  },
  {
   "cell_type": "code",
   "execution_count": 10,
   "metadata": {
    "ExecuteTime": {
     "end_time": "2022-09-01T20:48:59.561992Z",
     "start_time": "2022-09-01T20:48:59.196191Z"
    }
   },
   "outputs": [
    {
     "name": "stdout",
     "output_type": "stream",
     "text": [
      "+------+---------+----------------+--------------------+--------+\n",
      "|rating|     date|       variation|    verified_reviews|feedback|\n",
      "+------+---------+----------------+--------------------+--------+\n",
      "|     5|31-Jul-18|Charcoal Fabric |       Love my Echo!|       1|\n",
      "|     5|31-Jul-18|Charcoal Fabric |           Loved it!|       1|\n",
      "|     4|31-Jul-18|  Walnut Finish |Sometimes while p...|       1|\n",
      "+------+---------+----------------+--------------------+--------+\n",
      "only showing top 3 rows\n",
      "\n"
     ]
    }
   ],
   "source": [
    "Amazon_csv = spark.read.csv('output.csv', inferSchema=True, header=True)\n",
    "Amazon_csv.show(truncate=True, n=3)"
   ]
  },
  {
   "cell_type": "code",
   "execution_count": 11,
   "metadata": {
    "ExecuteTime": {
     "end_time": "2022-09-01T20:48:59.688836Z",
     "start_time": "2022-09-01T20:48:59.563519Z"
    }
   },
   "outputs": [
    {
     "name": "stdout",
     "output_type": "stream",
     "text": [
      "(3150, 5)\n"
     ]
    }
   ],
   "source": [
    "print((Amazon_csv.count(), len(Amazon_csv.columns)))"
   ]
  },
  {
   "cell_type": "markdown",
   "metadata": {},
   "source": [
    "#### Check for missing values!!"
   ]
  },
  {
   "cell_type": "code",
   "execution_count": 12,
   "metadata": {
    "ExecuteTime": {
     "end_time": "2022-09-01T20:49:00.821170Z",
     "start_time": "2022-09-01T20:48:59.823024Z"
    }
   },
   "outputs": [
    {
     "data": {
      "text/plain": [
       "[Row(feedback=' this would be a great gift. Once connected to wifi'),\n",
       " Row(feedback='0'),\n",
       " Row(feedback=' but getting the hang of it.\"'),\n",
       " Row(feedback=' it\\'s pretty creepy\"'),\n",
       " Row(feedback=' but hopefully soon Amazon allows the option to shut it off.\"'),\n",
       " Row(feedback=' gives you the wrong answer or finds information off of Wikipedia!\"'),\n",
       " Row(feedback='1'),\n",
       " Row(feedback=' I can control my lights'),\n",
       " Row(feedback='  but I\\'ll probably never use it\"\". Was I wrong!!  Echo is part of my daily routine')]"
      ]
     },
     "execution_count": 12,
     "metadata": {},
     "output_type": "execute_result"
    }
   ],
   "source": [
    "Amazon_csv.select('feedback').distinct().collect()"
   ]
  },
  {
   "cell_type": "markdown",
   "metadata": {},
   "source": [
    "#### Checking the Schema"
   ]
  },
  {
   "cell_type": "code",
   "execution_count": 13,
   "metadata": {
    "ExecuteTime": {
     "end_time": "2022-09-01T20:49:00.830067Z",
     "start_time": "2022-09-01T20:49:00.823727Z"
    }
   },
   "outputs": [
    {
     "name": "stdout",
     "output_type": "stream",
     "text": [
      "root\n",
      " |-- rating: integer (nullable = true)\n",
      " |-- date: string (nullable = true)\n",
      " |-- variation: string (nullable = true)\n",
      " |-- verified_reviews: string (nullable = true)\n",
      " |-- feedback: string (nullable = true)\n",
      "\n"
     ]
    }
   ],
   "source": [
    "Amazon_csv.printSchema() "
   ]
  },
  {
   "cell_type": "code",
   "execution_count": 14,
   "metadata": {
    "ExecuteTime": {
     "end_time": "2022-09-01T20:49:01.006634Z",
     "start_time": "2022-09-01T20:49:00.831636Z"
    }
   },
   "outputs": [
    {
     "name": "stdout",
     "output_type": "stream",
     "text": [
      "+------+---------+--------------------+--------------------+--------+\n",
      "|rating|     date|           variation|    verified_reviews|feedback|\n",
      "+------+---------+--------------------+--------------------+--------+\n",
      "|     5|31-Jul-18|    Charcoal Fabric |       Love my Echo!|       1|\n",
      "|     5|31-Jul-18|    Charcoal Fabric |           Loved it!|       1|\n",
      "|     4|31-Jul-18|      Walnut Finish |Sometimes while p...|       1|\n",
      "|     5|31-Jul-18|    Charcoal Fabric |I have had a lot ...|       1|\n",
      "|     5|31-Jul-18|    Charcoal Fabric |               Music|       1|\n",
      "|     5|31-Jul-18|Heather Gray Fabric |I received the ec...|       1|\n",
      "|     3|31-Jul-18|   Sandstone Fabric |Without having a ...|       1|\n",
      "|     5|31-Jul-18|    Charcoal Fabric |I think this is t...|       1|\n",
      "|     5|30-Jul-18|Heather Gray Fabric |         looks great|       1|\n",
      "|     5|30-Jul-18|Heather Gray Fabric |Love it! I’ve lis...|       1|\n",
      "+------+---------+--------------------+--------------------+--------+\n",
      "only showing top 10 rows\n",
      "\n"
     ]
    }
   ],
   "source": [
    "Amazon_csv = Amazon_csv.filter((Amazon_csv.feedback==1) | (Amazon_csv.feedback==0))\n",
    "Amazon_csv.show(truncate=True, n=10)"
   ]
  },
  {
   "cell_type": "code",
   "execution_count": 15,
   "metadata": {
    "ExecuteTime": {
     "end_time": "2022-09-01T20:49:01.870831Z",
     "start_time": "2022-09-01T20:49:01.008125Z"
    }
   },
   "outputs": [
    {
     "data": {
      "text/plain": [
       "[Row(feedback='0'), Row(feedback='1')]"
      ]
     },
     "execution_count": 15,
     "metadata": {},
     "output_type": "execute_result"
    }
   ],
   "source": [
    "Amazon_csv.select('feedback').distinct().collect()"
   ]
  },
  {
   "cell_type": "code",
   "execution_count": 16,
   "metadata": {
    "ExecuteTime": {
     "end_time": "2022-09-01T20:49:02.102960Z",
     "start_time": "2022-09-01T20:49:01.872942Z"
    },
    "scrolled": true
   },
   "outputs": [
    {
     "name": "stdout",
     "output_type": "stream",
     "text": [
      "+--------------------+--------+\n",
      "|    verified_reviews|feedback|\n",
      "+--------------------+--------+\n",
      "|       Love my Echo!|       1|\n",
      "|           Loved it!|       1|\n",
      "|Sometimes while p...|       1|\n",
      "|I have had a lot ...|       1|\n",
      "|               Music|       1|\n",
      "|I received the ec...|       1|\n",
      "|Without having a ...|       1|\n",
      "|I think this is t...|       1|\n",
      "|         looks great|       1|\n",
      "|Love it! I’ve lis...|       1|\n",
      "+--------------------+--------+\n",
      "only showing top 10 rows\n",
      "\n"
     ]
    }
   ],
   "source": [
    "Amazon_csv_ = Amazon_csv.filter(col(\"verified_reviews\").isNotNull()).select( \"verified_reviews\", \"feedback\")\n",
    "Amazon_csv_.show(truncate=True, n=10)"
   ]
  },
  {
   "cell_type": "code",
   "execution_count": 17,
   "metadata": {
    "ExecuteTime": {
     "end_time": "2022-09-01T20:49:02.267053Z",
     "start_time": "2022-09-01T20:49:02.105034Z"
    }
   },
   "outputs": [
    {
     "name": "stdout",
     "output_type": "stream",
     "text": [
      "+----------------+--------+\n",
      "|verified_reviews|feedback|\n",
      "+----------------+--------+\n",
      "|                |       1|\n",
      "|                |       1|\n",
      "|                |       1|\n",
      "|                |       0|\n",
      "|                |       0|\n",
      "|                |       0|\n",
      "|                |       1|\n",
      "|                |       1|\n",
      "|                |       1|\n",
      "|                |       1|\n",
      "|                |       0|\n",
      "|                |       0|\n",
      "|                |       0|\n",
      "|                |       0|\n",
      "|                |       1|\n",
      "|                |       1|\n",
      "|                |       1|\n",
      "|                |       1|\n",
      "|                |       1|\n",
      "|                |       1|\n",
      "+----------------+--------+\n",
      "only showing top 20 rows\n",
      "\n"
     ]
    }
   ],
   "source": [
    "Amazon_csv_.filter(Amazon_csv.verified_reviews==' ').show()"
   ]
  },
  {
   "cell_type": "markdown",
   "metadata": {},
   "source": [
    "#### Summary of the Dataframe"
   ]
  },
  {
   "cell_type": "code",
   "execution_count": 18,
   "metadata": {
    "ExecuteTime": {
     "end_time": "2022-09-01T20:49:02.286108Z",
     "start_time": "2022-09-01T20:49:02.268536Z"
    }
   },
   "outputs": [],
   "source": [
    "Amazon_csv_ = Amazon_csv_.filter(Amazon_csv_.verified_reviews!=' ')"
   ]
  },
  {
   "cell_type": "code",
   "execution_count": 19,
   "metadata": {
    "ExecuteTime": {
     "end_time": "2022-09-01T20:49:02.425736Z",
     "start_time": "2022-09-01T20:49:02.287876Z"
    }
   },
   "outputs": [
    {
     "name": "stdout",
     "output_type": "stream",
     "text": [
      "+--------------------+--------+\n",
      "|    verified_reviews|feedback|\n",
      "+--------------------+--------+\n",
      "|       Love my Echo!|       1|\n",
      "|           Loved it!|       1|\n",
      "|Sometimes while p...|       1|\n",
      "|I have had a lot ...|       1|\n",
      "|               Music|       1|\n",
      "|I received the ec...|       1|\n",
      "|Without having a ...|       1|\n",
      "|I think this is t...|       1|\n",
      "|         looks great|       1|\n",
      "|Love it! I’ve lis...|       1|\n",
      "+--------------------+--------+\n",
      "only showing top 10 rows\n",
      "\n"
     ]
    }
   ],
   "source": [
    "Amazon_csv_.show(truncate=True, n=10)"
   ]
  },
  {
   "cell_type": "code",
   "execution_count": 20,
   "metadata": {
    "ExecuteTime": {
     "end_time": "2022-09-01T20:49:02.528661Z",
     "start_time": "2022-09-01T20:49:02.427818Z"
    }
   },
   "outputs": [
    {
     "name": "stdout",
     "output_type": "stream",
     "text": [
      "+----------------+--------+\n",
      "|verified_reviews|feedback|\n",
      "+----------------+--------+\n",
      "+----------------+--------+\n",
      "\n"
     ]
    }
   ],
   "source": [
    "Amazon_csv_.filter(Amazon_csv.verified_reviews==' ').show()"
   ]
  },
  {
   "cell_type": "code",
   "execution_count": 21,
   "metadata": {
    "ExecuteTime": {
     "end_time": "2022-09-01T20:49:03.315970Z",
     "start_time": "2022-09-01T20:49:02.530333Z"
    }
   },
   "outputs": [
    {
     "data": {
      "text/plain": [
       "[Row(feedback='0'), Row(feedback='1')]"
      ]
     },
     "execution_count": 21,
     "metadata": {},
     "output_type": "execute_result"
    }
   ],
   "source": [
    "Amazon_csv_.select('feedback').distinct().collect()"
   ]
  },
  {
   "cell_type": "markdown",
   "metadata": {},
   "source": [
    "## split the dataset into train and test"
   ]
  },
  {
   "cell_type": "code",
   "execution_count": 22,
   "metadata": {
    "ExecuteTime": {
     "end_time": "2022-09-01T20:49:03.743698Z",
     "start_time": "2022-09-01T20:49:03.318158Z"
    }
   },
   "outputs": [
    {
     "name": "stdout",
     "output_type": "stream",
     "text": [
      "Training data rows: 2148 ; Testing data rows: 913\n"
     ]
    }
   ],
   "source": [
    "dividedData = Amazon_csv_.randomSplit([0.7, 0.3]) \n",
    "trainingData = dividedData[0] #index 0 = data training\n",
    "testingData = dividedData[1] #index 1 = data testing\n",
    "train_rows = trainingData.count()\n",
    "test_rows = testingData.count()\n",
    "print (\"Training data rows:\", train_rows, \"; Testing data rows:\", test_rows)"
   ]
  },
  {
   "cell_type": "markdown",
   "metadata": {},
   "source": [
    "#### Tokenizing the Text"
   ]
  },
  {
   "cell_type": "code",
   "execution_count": 23,
   "metadata": {
    "ExecuteTime": {
     "end_time": "2022-09-01T20:49:03.862164Z",
     "start_time": "2022-09-01T20:49:03.746494Z"
    }
   },
   "outputs": [
    {
     "name": "stdout",
     "output_type": "stream",
     "text": [
      "DataFrame[verified_reviews: string, feedback: string, verified_reviews_words: array<string>]\n"
     ]
    }
   ],
   "source": [
    "tokenizer = Tokenizer(inputCol=\"verified_reviews\", outputCol=\"verified_reviews_words\")\n",
    "tokenizedTrain = tokenizer.transform(trainingData)\n",
    "print(tokenizedTrain)"
   ]
  },
  {
   "cell_type": "code",
   "execution_count": 24,
   "metadata": {
    "ExecuteTime": {
     "end_time": "2022-09-01T20:49:03.872037Z",
     "start_time": "2022-09-01T20:49:03.863525Z"
    }
   },
   "outputs": [
    {
     "name": "stdout",
     "output_type": "stream",
     "text": [
      "root\n",
      " |-- verified_reviews: string (nullable = true)\n",
      " |-- feedback: string (nullable = true)\n",
      " |-- verified_reviews_words: array (nullable = true)\n",
      " |    |-- element: string (containsNull = true)\n",
      "\n"
     ]
    }
   ],
   "source": [
    "tokenizedTrain.printSchema()"
   ]
  },
  {
   "cell_type": "code",
   "execution_count": 25,
   "metadata": {
    "ExecuteTime": {
     "end_time": "2022-09-01T20:49:04.086910Z",
     "start_time": "2022-09-01T20:49:03.873517Z"
    }
   },
   "outputs": [
    {
     "name": "stdout",
     "output_type": "stream",
     "text": [
      "+--------------------+--------+----------------------+\n",
      "|    verified_reviews|feedback|verified_reviews_words|\n",
      "+--------------------+--------+----------------------+\n",
      "|\"Handy if you don...|       1|  [\"handy, if, you,...|\n",
      "|\"I love my echo p...|       1|  [\"i, love, my, ec...|\n",
      "|\"I loved how easy...|       1|  [\"i, loved, how, ...|\n",
      "|\"I purchased the ...|       1|  [\"i, purchased, t...|\n",
      "|\"Overall love it....|       1|  [\"overall, love, ...|\n",
      "|       ***Love it***|       1|      [***love, it***]|\n",
      "|   3rd Dot. Love it!|       1|  [3rd, dot., love,...|\n",
      "|4 out of 5 stars....|       1|  [4, out, of, 5, s...|\n",
      "|4.5 out of 5 Star...|       1|  [4.5, out, of, 5,...|\n",
      "|A GREAT PRODUCT.....|       1|  [a, great, produc...|\n",
      "+--------------------+--------+----------------------+\n",
      "only showing top 10 rows\n",
      "\n"
     ]
    }
   ],
   "source": [
    "tokenizedTrain.show(truncate=True, n=10)"
   ]
  },
  {
   "cell_type": "code",
   "execution_count": 26,
   "metadata": {
    "ExecuteTime": {
     "end_time": "2022-09-01T20:49:04.805343Z",
     "start_time": "2022-09-01T20:49:04.088211Z"
    }
   },
   "outputs": [
    {
     "data": {
      "text/plain": [
       "[Row(feedback='0'), Row(feedback='1')]"
      ]
     },
     "execution_count": 26,
     "metadata": {},
     "output_type": "execute_result"
    }
   ],
   "source": [
    "tokenizedTrain.select('feedback').distinct().collect()"
   ]
  },
  {
   "cell_type": "code",
   "execution_count": 27,
   "metadata": {
    "ExecuteTime": {
     "end_time": "2022-09-01T20:49:04.957941Z",
     "start_time": "2022-09-01T20:49:04.807039Z"
    }
   },
   "outputs": [
    {
     "name": "stdout",
     "output_type": "stream",
     "text": [
      "+--------------------+--------+----------------------+\n",
      "|    verified_reviews|feedback|verified_reviews_words|\n",
      "+--------------------+--------+----------------------+\n",
      "|\"Handy if you don...|       1|  [\"handy, if, you,...|\n",
      "|\"I love my echo p...|       1|  [\"i, love, my, ec...|\n",
      "|\"I loved how easy...|       1|  [\"i, loved, how, ...|\n",
      "|\"I purchased the ...|       1|  [\"i, purchased, t...|\n",
      "|\"Overall love it....|       1|  [\"overall, love, ...|\n",
      "|       ***Love it***|       1|      [***love, it***]|\n",
      "|   3rd Dot. Love it!|       1|  [3rd, dot., love,...|\n",
      "|4 out of 5 stars....|       1|  [4, out, of, 5, s...|\n",
      "|4.5 out of 5 Star...|       1|  [4.5, out, of, 5,...|\n",
      "|A GREAT PRODUCT.....|       1|  [a, great, produc...|\n",
      "|         A great buy|       1|       [a, great, buy]|\n",
      "|      A great device|       1|    [a, great, device]|\n",
      "|A great product f...|       1|  [a, great, produc...|\n",
      "|A great product. ...|       1|  [a, great, produc...|\n",
      "|A helpful product...|       1|  [a, helpful, prod...|\n",
      "|A small problem o...|       1|  [a, small, proble...|\n",
      "|                  A+|       1|                  [a+]|\n",
      "|               A++++|       1|               [a++++]|\n",
      "|ABSOLUTELY LOVE T...|       1|  [absolutely, love...|\n",
      "|ALEXA IS NOT AS S...|       0|  [alexa, is, not, ...|\n",
      "+--------------------+--------+----------------------+\n",
      "only showing top 20 rows\n",
      "\n"
     ]
    }
   ],
   "source": [
    "tokenizedTrain.show()"
   ]
  },
  {
   "cell_type": "code",
   "execution_count": 28,
   "metadata": {
    "ExecuteTime": {
     "end_time": "2022-09-01T20:49:05.253345Z",
     "start_time": "2022-09-01T20:49:04.959436Z"
    }
   },
   "outputs": [
    {
     "name": "stdout",
     "output_type": "stream",
     "text": [
      "+--------------------+--------+----------------------+--------------------+\n",
      "|    verified_reviews|feedback|verified_reviews_words|     MeaningfulWords|\n",
      "+--------------------+--------+----------------------+--------------------+\n",
      "|\"Handy if you don...|       1|  [\"handy, if, you,...|[\"handy, expect, ...|\n",
      "|\"I love my echo p...|       1|  [\"i, love, my, ec...|[\"i, love, echo, ...|\n",
      "|\"I loved how easy...|       1|  [\"i, loved, how, ...|[\"i, loved, easy,...|\n",
      "|\"I purchased the ...|       1|  [\"i, purchased, t...|[\"i, purchased, \"...|\n",
      "|\"Overall love it....|       1|  [\"overall, love, ...|[\"overall, love, ...|\n",
      "+--------------------+--------+----------------------+--------------------+\n",
      "only showing top 5 rows\n",
      "\n"
     ]
    }
   ],
   "source": [
    "swr = StopWordsRemover(inputCol=tokenizer.getOutputCol(), outputCol=\"MeaningfulWords\")\n",
    "SwRemovedTrain = swr.transform(tokenizedTrain)\n",
    "SwRemovedTrain.show(truncate=True, n=5)"
   ]
  },
  {
   "cell_type": "markdown",
   "metadata": {},
   "source": [
    "## hash TF"
   ]
  },
  {
   "cell_type": "code",
   "execution_count": 29,
   "metadata": {
    "ExecuteTime": {
     "end_time": "2022-09-01T20:49:05.698442Z",
     "start_time": "2022-09-01T20:49:05.255408Z"
    }
   },
   "outputs": [
    {
     "name": "stdout",
     "output_type": "stream",
     "text": [
      "+--------+--------------------+--------------------+\n",
      "|feedback|     MeaningfulWords|            features|\n",
      "+--------+--------------------+--------------------+\n",
      "|       1|[\"handy, expect, ...|(262144,[30234,76...|\n",
      "|       1|[\"i, love, echo, ...|(262144,[329,1900...|\n",
      "|       1|[\"i, loved, easy,...|(262144,[36702,40...|\n",
      "|       1|[\"i, purchased, \"...|(262144,[769,1558...|\n",
      "|       1|[\"overall, love, ...|(262144,[3502,880...|\n",
      "|       1|    [***love, it***]|(262144,[19700,20...|\n",
      "|       1|[3rd, dot., love,...|(262144,[83671,90...|\n",
      "|       1|[4, 5, stars., or...|(262144,[8254,912...|\n",
      "|       1|[4.5, 5, stars., ...|(262144,[10564,14...|\n",
      "|       1|[great, product.....|(262144,[13327,34...|\n",
      "+--------+--------------------+--------------------+\n",
      "only showing top 10 rows\n",
      "\n"
     ]
    }
   ],
   "source": [
    "hashTF = HashingTF(inputCol=swr.getOutputCol(), outputCol=\"features\")\n",
    "numericTrainData = hashTF.transform(SwRemovedTrain).select('feedback', 'MeaningfulWords', 'features')\n",
    "numericTrainData.show(truncate=True, n=10)"
   ]
  },
  {
   "cell_type": "code",
   "execution_count": 30,
   "metadata": {
    "ExecuteTime": {
     "end_time": "2022-09-01T20:49:05.705772Z",
     "start_time": "2022-09-01T20:49:05.701350Z"
    }
   },
   "outputs": [
    {
     "name": "stdout",
     "output_type": "stream",
     "text": [
      "root\n",
      " |-- feedback: string (nullable = true)\n",
      " |-- MeaningfulWords: array (nullable = true)\n",
      " |    |-- element: string (containsNull = true)\n",
      " |-- features: vector (nullable = true)\n",
      "\n"
     ]
    }
   ],
   "source": [
    "numericTrainData.printSchema() "
   ]
  },
  {
   "cell_type": "code",
   "execution_count": 31,
   "metadata": {
    "ExecuteTime": {
     "end_time": "2022-09-01T20:49:06.454433Z",
     "start_time": "2022-09-01T20:49:05.707555Z"
    }
   },
   "outputs": [
    {
     "data": {
      "text/plain": [
       "[Row(feedback='0'), Row(feedback='1')]"
      ]
     },
     "execution_count": 31,
     "metadata": {},
     "output_type": "execute_result"
    }
   ],
   "source": [
    "numericTrainData.select('feedback').distinct().collect()"
   ]
  },
  {
   "cell_type": "code",
   "execution_count": 32,
   "metadata": {
    "ExecuteTime": {
     "end_time": "2022-09-01T20:49:06.662307Z",
     "start_time": "2022-09-01T20:49:06.456085Z"
    }
   },
   "outputs": [],
   "source": [
    "numericTrainData = numericTrainData.withColumn(\"feedback\", \n",
    "                                  numericTrainData[\"feedback\"]\n",
    "                                  .cast('int'))"
   ]
  },
  {
   "cell_type": "code",
   "execution_count": 33,
   "metadata": {
    "ExecuteTime": {
     "end_time": "2022-09-01T20:49:06.668542Z",
     "start_time": "2022-09-01T20:49:06.664106Z"
    },
    "scrolled": true
   },
   "outputs": [
    {
     "name": "stdout",
     "output_type": "stream",
     "text": [
      "root\n",
      " |-- feedback: integer (nullable = true)\n",
      " |-- MeaningfulWords: array (nullable = true)\n",
      " |    |-- element: string (containsNull = true)\n",
      " |-- features: vector (nullable = true)\n",
      "\n"
     ]
    }
   ],
   "source": [
    "numericTrainData.printSchema() "
   ]
  },
  {
   "cell_type": "markdown",
   "metadata": {},
   "source": [
    "## Training the model"
   ]
  },
  {
   "cell_type": "code",
   "execution_count": 45,
   "metadata": {
    "ExecuteTime": {
     "end_time": "2022-09-01T22:26:05.361902Z",
     "start_time": "2022-09-01T22:26:03.263428Z"
    }
   },
   "outputs": [
    {
     "name": "stdout",
     "output_type": "stream",
     "text": [
      "Training is done!\n"
     ]
    }
   ],
   "source": [
    "lr = LogisticRegression(labelCol=\"feedback\", featuresCol=\"features\", maxIter=10, regParam=0.01)\n",
    "model = lr.fit(numericTrainData)  \n",
    "print (\"Training is done!\")"
   ]
  },
  {
   "cell_type": "code",
   "execution_count": 46,
   "metadata": {
    "ExecuteTime": {
     "end_time": "2022-09-01T22:26:05.585194Z",
     "start_time": "2022-09-01T22:26:05.367963Z"
    }
   },
   "outputs": [
    {
     "name": "stdout",
     "output_type": "stream",
     "text": [
      "+--------+--------------------+--------------------+\n",
      "|feedback|     MeaningfulWords|            features|\n",
      "+--------+--------------------+--------------------+\n",
      "|       1|[\"handy, expect, ...|(262144,[30234,76...|\n",
      "|       1|[\"love, except, a...|(262144,[4125,119...|\n",
      "|       1|[\"overall, love, ...|(262144,[3502,880...|\n",
      "|       0|[&#34;never, buy,...|(262144,[8970,430...|\n",
      "|       1| [2nd, one..., come]|(262144,[114763,1...|\n",
      "|       1|[3rd, dot., love,...|(262144,[83671,90...|\n",
      "|       1|[4.5, 5, stars., ...|(262144,[10564,14...|\n",
      "|       1|     [great, device]|(262144,[82950,26...|\n",
      "|       1|[great, investmen...|(262144,[57422,13...|\n",
      "|       1|[great, investmen...|(262144,[57422,13...|\n",
      "+--------+--------------------+--------------------+\n",
      "only showing top 10 rows\n",
      "\n"
     ]
    }
   ],
   "source": [
    "tokenizedTest = tokenizer.transform(testingData)\n",
    "SwRemovedTest = swr.transform(tokenizedTest)\n",
    "numericTest = hashTF.transform(SwRemovedTest).select('feedback', 'MeaningfulWords', 'features')\n",
    "numericTest.show(truncate=True, n=10)"
   ]
  },
  {
   "cell_type": "code",
   "execution_count": 47,
   "metadata": {
    "ExecuteTime": {
     "end_time": "2022-09-01T22:26:05.734100Z",
     "start_time": "2022-09-01T22:26:05.586643Z"
    },
    "scrolled": true
   },
   "outputs": [
    {
     "name": "stdout",
     "output_type": "stream",
     "text": [
      "+--------------------+----------+--------+\n",
      "|     MeaningfulWords|prediction|feedback|\n",
      "+--------------------+----------+--------+\n",
      "|[\"handy, expect, ...|       1.0|       1|\n",
      "|[\"love, except, a...|       1.0|       1|\n",
      "|[\"overall, love, ...|       1.0|       1|\n",
      "|[&#34;never, buy,...|       1.0|       0|\n",
      "| [2nd, one..., come]|       1.0|       1|\n",
      "|[3rd, dot., love,...|       1.0|       1|\n",
      "|[4.5, 5, stars., ...|       1.0|       1|\n",
      "|     [great, device]|       1.0|       1|\n",
      "|[great, investmen...|       1.0|       1|\n",
      "|[great, investmen...|       1.0|       1|\n",
      "+--------------------+----------+--------+\n",
      "only showing top 10 rows\n",
      "\n"
     ]
    }
   ],
   "source": [
    "prediction = model.transform(numericTest)\n",
    "predictionFinal = prediction.select(\"MeaningfulWords\", \"prediction\", \"feedback\")\n",
    "predictionFinal.show(n=10, truncate = True)"
   ]
  },
  {
   "cell_type": "markdown",
   "metadata": {},
   "source": [
    "## Evaluating the Model"
   ]
  },
  {
   "cell_type": "code",
   "execution_count": 49,
   "metadata": {
    "ExecuteTime": {
     "end_time": "2022-09-01T22:26:42.148394Z",
     "start_time": "2022-09-01T22:26:41.740560Z"
    }
   },
   "outputs": [
    {
     "name": "stdout",
     "output_type": "stream",
     "text": [
      "correct prediction: 867 , total data: 913 , accuracy: 0.9496166484118291\n"
     ]
    }
   ],
   "source": [
    "\n",
    "correctPrediction = predictionFinal.filter(predictionFinal['prediction'] == predictionFinal['feedback']).count()\n",
    "totalData = predictionFinal.count()\n",
    "print(\"correct prediction:\", correctPrediction, \", total data:\", totalData, \", accuracy:\", correctPrediction/totalData)"
   ]
  },
  {
   "cell_type": "code",
   "execution_count": null,
   "metadata": {},
   "outputs": [],
   "source": []
  }
 ],
 "metadata": {
  "kernelspec": {
   "display_name": "Python 3",
   "language": "python",
   "name": "python3"
  },
  "language_info": {
   "codemirror_mode": {
    "name": "ipython",
    "version": 3
   },
   "file_extension": ".py",
   "mimetype": "text/x-python",
   "name": "python",
   "nbconvert_exporter": "python",
   "pygments_lexer": "ipython3",
   "version": "3.8.10"
  }
 },
 "nbformat": 4,
 "nbformat_minor": 5
}
